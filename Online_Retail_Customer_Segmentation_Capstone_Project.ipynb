{
  "nbformat": 4,
  "nbformat_minor": 0,
  "metadata": {
    "kernelspec": {
      "display_name": "Python 3",
      "language": "python",
      "name": "python3"
    },
    "language_info": {
      "codemirror_mode": {
        "name": "ipython",
        "version": 3
      },
      "file_extension": ".py",
      "mimetype": "text/x-python",
      "name": "python",
      "nbconvert_exporter": "python",
      "pygments_lexer": "ipython3",
      "version": "3.6.6"
    },
    "colab": {
      "provenance": [],
      "collapsed_sections": [],
      "include_colab_link": true
    }
  },
  "cells": [
    {
      "cell_type": "markdown",
      "metadata": {
        "id": "view-in-github",
        "colab_type": "text"
      },
      "source": [
        "<a href=\"https://colab.research.google.com/github/Samikshab99/Unsupervised-ML-Customer-Segmentation/blob/main/Online_Retail_Customer_Segmentation_Capstone_Project.ipynb\" target=\"_parent\"><img src=\"https://colab.research.google.com/assets/colab-badge.svg\" alt=\"Open In Colab\"/></a>"
      ]
    },
    {
      "cell_type": "markdown",
      "metadata": {
        "id": "tOGC-qoyhJeX"
      },
      "source": [
        "# <b><u> Project Title : Online Retail Customer Segmentation </u></b>"
      ]
    },
    {
      "cell_type": "markdown",
      "metadata": {
        "id": "Y06xIdG26kRF"
      },
      "source": [
        "## <b> Problem Description </b>\n",
        "\n",
        "### In this project, your task is to identify major customer segments on a transnational data set which contains all the transactions occurring between 01/12/2010 and 09/12/2011 for a UK-based and registered non-store online retail.The company mainly sells unique all-occasion gifts. Many customers of the company are wholesalers."
      ]
    },
    {
      "cell_type": "markdown",
      "source": [
        "![1.1.png](data:image/png;base64,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)"
      ],
      "metadata": {
        "id": "oOhFDaWHpTaT"
      }
    },
    {
      "cell_type": "markdown",
      "source": [
        "## **Customer segmentation:**\n",
        "Customer segmentation is the process of separating your customers into groups based on certain traits they share.\n",
        "\n",
        "Segmentation offers a simple way of organizing and managing your company’s relationships with your customers. This process also makes it easy to tailor and personalize your marketing, service, and sales efforts to the needs of specific groups. This helps boost customer loyalty and conversions.The division is based on customers having similar:\n",
        "\n",
        "* Needs (i.e., so a single whole product can satisfy them)\n",
        "\n",
        "* Buying characteristics (i.e., responses to messaging, marketing channels, and sales channels, that a single go-to-market approach can be used to sell to them competitively and economically)\n",
        "\n"
      ],
      "metadata": {
        "id": "tpx8YPcKptmu"
      }
    },
    {
      "cell_type": "markdown",
      "metadata": {
        "id": "AlLxAtlziMbP"
      },
      "source": [
        "## <b> Data Description </b>\n",
        "\n",
        "### <b>Attribute Information: </b>\n",
        "\n",
        "* ### InvoiceNo: Invoice number. Nominal, a 6-digit integral number uniquely assigned to each transaction. If this code starts with letter 'c', it indicates a cancellation.\n",
        "* ### StockCode: Product (item) code. Nominal, a 5-digit integral number uniquely assigned to each distinct product.\n",
        "* ### Description: Product (item) name. Nominal.\n",
        "* ### Quantity: The quantities of each product (item) per transaction. Numeric.\n",
        "* ### InvoiceDate: Invice Date and time. Numeric, the day and time when each transaction was generated.\n",
        "* ### UnitPrice: Unit price. Numeric, Product price per unit in sterling.\n",
        "* ### CustomerID: Customer number. Nominal, a 5-digit integral number uniquely assigned to each customer.\n",
        "* ### Country: Country name. Nominal, the name of the country where each customer resides. \n",
        "\n",
        "---\n",
        "\n"
      ]
    },
    {
      "cell_type": "markdown",
      "source": [
        "# Lets begin with rituals !"
      ],
      "metadata": {
        "id": "sQVH_DqBrQ-b"
      }
    },
    {
      "cell_type": "markdown",
      "source": [
        "## **Importing libraries**"
      ],
      "metadata": {
        "id": "VGVe0w_7rW1h"
      }
    },
    {
      "cell_type": "code",
      "metadata": {
        "id": "dByMsuzT8Tnw"
      },
      "source": [
        "#Importing Libraries\n",
        "import pandas as pd\n",
        "import numpy as np\n",
        "import datetime\n",
        "import math\n",
        "import matplotlib.pyplot as plt\n",
        "import matplotlib.mlab as mlab\n",
        "from sklearn import preprocessing\n",
        "from sklearn.cluster import KMeans\n",
        "from sklearn.metrics import silhouette_samples, silhouette_score\n",
        "import matplotlib.cm as cm\n",
        "import seaborn as sns\n",
        "\n",
        "from mpl_toolkits.mplot3d import Axes3D\n",
        "\n",
        "%matplotlib inline"
      ],
      "execution_count": null,
      "outputs": []
    },
    {
      "cell_type": "markdown",
      "source": [
        "## **IMPORTING DATASET:**"
      ],
      "metadata": {
        "id": "PRZqgV9Mrw0g"
      }
    },
    {
      "cell_type": "code",
      "source": [
        "# Mounting the drive\n",
        "\n",
        "from google.colab import drive\n",
        "drive.mount('/content/drive')"
      ],
      "metadata": {
        "colab": {
          "base_uri": "https://localhost:8080/"
        },
        "id": "yUO4wpQBrzoW",
        "outputId": "cc43bbf8-af3a-4c03-98fe-8b75a6e17045"
      },
      "execution_count": null,
      "outputs": [
        {
          "output_type": "stream",
          "name": "stdout",
          "text": [
            "Drive already mounted at /content/drive; to attempt to forcibly remount, call drive.mount(\"/content/drive\", force_remount=True).\n"
          ]
        }
      ]
    },
    {
      "cell_type": "code",
      "source": [
        "# Loading the csv file containing data\n",
        "retail_df=pd.read_excel('/content/drive/MyDrive/Unsupervised ML/Online Retail.xlsx')"
      ],
      "metadata": {
        "id": "BdjMiYessEeL"
      },
      "execution_count": null,
      "outputs": []
    },
    {
      "cell_type": "code",
      "source": [
        "# As we have the data now, lets see what's in it.\n",
        "retail_df.info()"
      ],
      "metadata": {
        "colab": {
          "base_uri": "https://localhost:8080/"
        },
        "id": "bLJkcRCkwnDA",
        "outputId": "8dcc51cf-8706-4a9d-da79-ccbcb4cd3077"
      },
      "execution_count": null,
      "outputs": [
        {
          "output_type": "stream",
          "name": "stdout",
          "text": [
            "<class 'pandas.core.frame.DataFrame'>\n",
            "RangeIndex: 541909 entries, 0 to 541908\n",
            "Data columns (total 8 columns):\n",
            " #   Column       Non-Null Count   Dtype         \n",
            "---  ------       --------------   -----         \n",
            " 0   InvoiceNo    541909 non-null  object        \n",
            " 1   StockCode    541909 non-null  object        \n",
            " 2   Description  540455 non-null  object        \n",
            " 3   Quantity     541909 non-null  int64         \n",
            " 4   InvoiceDate  541909 non-null  datetime64[ns]\n",
            " 5   UnitPrice    541909 non-null  float64       \n",
            " 6   CustomerID   406829 non-null  float64       \n",
            " 7   Country      541909 non-null  object        \n",
            "dtypes: datetime64[ns](1), float64(2), int64(1), object(4)\n",
            "memory usage: 33.1+ MB\n"
          ]
        }
      ]
    },
    {
      "cell_type": "markdown",
      "source": [
        "## Looks like we need to read all column names try to figure out what data they are really storing."
      ],
      "metadata": {
        "id": "2tWZlkdEzn4_"
      }
    },
    {
      "cell_type": "code",
      "source": [
        "retail_df.columns"
      ],
      "metadata": {
        "colab": {
          "base_uri": "https://localhost:8080/"
        },
        "id": "ho9fVqH8zcDv",
        "outputId": "8dec7faf-c7f8-4eb9-edc9-9996a003ba83"
      },
      "execution_count": null,
      "outputs": [
        {
          "output_type": "execute_result",
          "data": {
            "text/plain": [
              "Index(['InvoiceNo', 'StockCode', 'Description', 'Quantity', 'InvoiceDate',\n",
              "       'UnitPrice', 'CustomerID', 'Country'],\n",
              "      dtype='object')"
            ]
          },
          "metadata": {},
          "execution_count": 15
        }
      ]
    },
    {
      "cell_type": "code",
      "source": [
        "# Basic\n",
        "retail_df.shape"
      ],
      "metadata": {
        "colab": {
          "base_uri": "https://localhost:8080/"
        },
        "id": "bv4-OXgizuXn",
        "outputId": "af4f221d-6f74-4344-98dd-329f10145c96"
      },
      "execution_count": null,
      "outputs": [
        {
          "output_type": "execute_result",
          "data": {
            "text/plain": [
              "(541909, 8)"
            ]
          },
          "metadata": {},
          "execution_count": 16
        }
      ]
    },
    {
      "cell_type": "code",
      "source": [
        "# Thats a lot of data\n",
        "retail_df.size"
      ],
      "metadata": {
        "colab": {
          "base_uri": "https://localhost:8080/"
        },
        "id": "8GqK_T9Pz6Vv",
        "outputId": "d2906b82-c2ab-4f5c-cc07-f5548943293b"
      },
      "execution_count": null,
      "outputs": [
        {
          "output_type": "execute_result",
          "data": {
            "text/plain": [
              "4335272"
            ]
          },
          "metadata": {},
          "execution_count": 18
        }
      ]
    },
    {
      "cell_type": "code",
      "source": [
        "# This is supposed to show first 5 rows of dataframe.\n",
        "retail_df.head()"
      ],
      "metadata": {
        "colab": {
          "base_uri": "https://localhost:8080/",
          "height": 206
        },
        "id": "ISinxKVavRmp",
        "outputId": "50f2a4d1-3671-4e31-a690-71828c6daf7d"
      },
      "execution_count": null,
      "outputs": [
        {
          "output_type": "execute_result",
          "data": {
            "text/plain": [
              "  InvoiceNo StockCode                          Description  Quantity  \\\n",
              "0    536365    85123A   WHITE HANGING HEART T-LIGHT HOLDER         6   \n",
              "1    536365     71053                  WHITE METAL LANTERN         6   \n",
              "2    536365    84406B       CREAM CUPID HEARTS COAT HANGER         8   \n",
              "3    536365    84029G  KNITTED UNION FLAG HOT WATER BOTTLE         6   \n",
              "4    536365    84029E       RED WOOLLY HOTTIE WHITE HEART.         6   \n",
              "\n",
              "          InvoiceDate  UnitPrice  CustomerID         Country  \n",
              "0 2010-12-01 08:26:00       2.55     17850.0  United Kingdom  \n",
              "1 2010-12-01 08:26:00       3.39     17850.0  United Kingdom  \n",
              "2 2010-12-01 08:26:00       2.75     17850.0  United Kingdom  \n",
              "3 2010-12-01 08:26:00       3.39     17850.0  United Kingdom  \n",
              "4 2010-12-01 08:26:00       3.39     17850.0  United Kingdom  "
            ],
            "text/html": [
              "\n",
              "  <div id=\"df-257fe682-344f-42c4-b158-e8cf30750fbb\">\n",
              "    <div class=\"colab-df-container\">\n",
              "      <div>\n",
              "<style scoped>\n",
              "    .dataframe tbody tr th:only-of-type {\n",
              "        vertical-align: middle;\n",
              "    }\n",
              "\n",
              "    .dataframe tbody tr th {\n",
              "        vertical-align: top;\n",
              "    }\n",
              "\n",
              "    .dataframe thead th {\n",
              "        text-align: right;\n",
              "    }\n",
              "</style>\n",
              "<table border=\"1\" class=\"dataframe\">\n",
              "  <thead>\n",
              "    <tr style=\"text-align: right;\">\n",
              "      <th></th>\n",
              "      <th>InvoiceNo</th>\n",
              "      <th>StockCode</th>\n",
              "      <th>Description</th>\n",
              "      <th>Quantity</th>\n",
              "      <th>InvoiceDate</th>\n",
              "      <th>UnitPrice</th>\n",
              "      <th>CustomerID</th>\n",
              "      <th>Country</th>\n",
              "    </tr>\n",
              "  </thead>\n",
              "  <tbody>\n",
              "    <tr>\n",
              "      <th>0</th>\n",
              "      <td>536365</td>\n",
              "      <td>85123A</td>\n",
              "      <td>WHITE HANGING HEART T-LIGHT HOLDER</td>\n",
              "      <td>6</td>\n",
              "      <td>2010-12-01 08:26:00</td>\n",
              "      <td>2.55</td>\n",
              "      <td>17850.0</td>\n",
              "      <td>United Kingdom</td>\n",
              "    </tr>\n",
              "    <tr>\n",
              "      <th>1</th>\n",
              "      <td>536365</td>\n",
              "      <td>71053</td>\n",
              "      <td>WHITE METAL LANTERN</td>\n",
              "      <td>6</td>\n",
              "      <td>2010-12-01 08:26:00</td>\n",
              "      <td>3.39</td>\n",
              "      <td>17850.0</td>\n",
              "      <td>United Kingdom</td>\n",
              "    </tr>\n",
              "    <tr>\n",
              "      <th>2</th>\n",
              "      <td>536365</td>\n",
              "      <td>84406B</td>\n",
              "      <td>CREAM CUPID HEARTS COAT HANGER</td>\n",
              "      <td>8</td>\n",
              "      <td>2010-12-01 08:26:00</td>\n",
              "      <td>2.75</td>\n",
              "      <td>17850.0</td>\n",
              "      <td>United Kingdom</td>\n",
              "    </tr>\n",
              "    <tr>\n",
              "      <th>3</th>\n",
              "      <td>536365</td>\n",
              "      <td>84029G</td>\n",
              "      <td>KNITTED UNION FLAG HOT WATER BOTTLE</td>\n",
              "      <td>6</td>\n",
              "      <td>2010-12-01 08:26:00</td>\n",
              "      <td>3.39</td>\n",
              "      <td>17850.0</td>\n",
              "      <td>United Kingdom</td>\n",
              "    </tr>\n",
              "    <tr>\n",
              "      <th>4</th>\n",
              "      <td>536365</td>\n",
              "      <td>84029E</td>\n",
              "      <td>RED WOOLLY HOTTIE WHITE HEART.</td>\n",
              "      <td>6</td>\n",
              "      <td>2010-12-01 08:26:00</td>\n",
              "      <td>3.39</td>\n",
              "      <td>17850.0</td>\n",
              "      <td>United Kingdom</td>\n",
              "    </tr>\n",
              "  </tbody>\n",
              "</table>\n",
              "</div>\n",
              "      <button class=\"colab-df-convert\" onclick=\"convertToInteractive('df-257fe682-344f-42c4-b158-e8cf30750fbb')\"\n",
              "              title=\"Convert this dataframe to an interactive table.\"\n",
              "              style=\"display:none;\">\n",
              "        \n",
              "  <svg xmlns=\"http://www.w3.org/2000/svg\" height=\"24px\"viewBox=\"0 0 24 24\"\n",
              "       width=\"24px\">\n",
              "    <path d=\"M0 0h24v24H0V0z\" fill=\"none\"/>\n",
              "    <path d=\"M18.56 5.44l.94 2.06.94-2.06 2.06-.94-2.06-.94-.94-2.06-.94 2.06-2.06.94zm-11 1L8.5 8.5l.94-2.06 2.06-.94-2.06-.94L8.5 2.5l-.94 2.06-2.06.94zm10 10l.94 2.06.94-2.06 2.06-.94-2.06-.94-.94-2.06-.94 2.06-2.06.94z\"/><path d=\"M17.41 7.96l-1.37-1.37c-.4-.4-.92-.59-1.43-.59-.52 0-1.04.2-1.43.59L10.3 9.45l-7.72 7.72c-.78.78-.78 2.05 0 2.83L4 21.41c.39.39.9.59 1.41.59.51 0 1.02-.2 1.41-.59l7.78-7.78 2.81-2.81c.8-.78.8-2.07 0-2.86zM5.41 20L4 18.59l7.72-7.72 1.47 1.35L5.41 20z\"/>\n",
              "  </svg>\n",
              "      </button>\n",
              "      \n",
              "  <style>\n",
              "    .colab-df-container {\n",
              "      display:flex;\n",
              "      flex-wrap:wrap;\n",
              "      gap: 12px;\n",
              "    }\n",
              "\n",
              "    .colab-df-convert {\n",
              "      background-color: #E8F0FE;\n",
              "      border: none;\n",
              "      border-radius: 50%;\n",
              "      cursor: pointer;\n",
              "      display: none;\n",
              "      fill: #1967D2;\n",
              "      height: 32px;\n",
              "      padding: 0 0 0 0;\n",
              "      width: 32px;\n",
              "    }\n",
              "\n",
              "    .colab-df-convert:hover {\n",
              "      background-color: #E2EBFA;\n",
              "      box-shadow: 0px 1px 2px rgba(60, 64, 67, 0.3), 0px 1px 3px 1px rgba(60, 64, 67, 0.15);\n",
              "      fill: #174EA6;\n",
              "    }\n",
              "\n",
              "    [theme=dark] .colab-df-convert {\n",
              "      background-color: #3B4455;\n",
              "      fill: #D2E3FC;\n",
              "    }\n",
              "\n",
              "    [theme=dark] .colab-df-convert:hover {\n",
              "      background-color: #434B5C;\n",
              "      box-shadow: 0px 1px 3px 1px rgba(0, 0, 0, 0.15);\n",
              "      filter: drop-shadow(0px 1px 2px rgba(0, 0, 0, 0.3));\n",
              "      fill: #FFFFFF;\n",
              "    }\n",
              "  </style>\n",
              "\n",
              "      <script>\n",
              "        const buttonEl =\n",
              "          document.querySelector('#df-257fe682-344f-42c4-b158-e8cf30750fbb button.colab-df-convert');\n",
              "        buttonEl.style.display =\n",
              "          google.colab.kernel.accessAllowed ? 'block' : 'none';\n",
              "\n",
              "        async function convertToInteractive(key) {\n",
              "          const element = document.querySelector('#df-257fe682-344f-42c4-b158-e8cf30750fbb');\n",
              "          const dataTable =\n",
              "            await google.colab.kernel.invokeFunction('convertToInteractive',\n",
              "                                                     [key], {});\n",
              "          if (!dataTable) return;\n",
              "\n",
              "          const docLinkHtml = 'Like what you see? Visit the ' +\n",
              "            '<a target=\"_blank\" href=https://colab.research.google.com/notebooks/data_table.ipynb>data table notebook</a>'\n",
              "            + ' to learn more about interactive tables.';\n",
              "          element.innerHTML = '';\n",
              "          dataTable['output_type'] = 'display_data';\n",
              "          await google.colab.output.renderOutput(dataTable, element);\n",
              "          const docLink = document.createElement('div');\n",
              "          docLink.innerHTML = docLinkHtml;\n",
              "          element.appendChild(docLink);\n",
              "        }\n",
              "      </script>\n",
              "    </div>\n",
              "  </div>\n",
              "  "
            ]
          },
          "metadata": {},
          "execution_count": 19
        }
      ]
    },
    {
      "cell_type": "code",
      "source": [
        "retail_df.tail()"
      ],
      "metadata": {
        "colab": {
          "base_uri": "https://localhost:8080/",
          "height": 206
        },
        "id": "8CRzibFb0KMk",
        "outputId": "61fcff73-ef20-4de3-9ec5-d680caa6a198"
      },
      "execution_count": null,
      "outputs": [
        {
          "output_type": "execute_result",
          "data": {
            "text/plain": [
              "       InvoiceNo StockCode                      Description  Quantity  \\\n",
              "541904    581587     22613      PACK OF 20 SPACEBOY NAPKINS        12   \n",
              "541905    581587     22899     CHILDREN'S APRON DOLLY GIRL          6   \n",
              "541906    581587     23254    CHILDRENS CUTLERY DOLLY GIRL          4   \n",
              "541907    581587     23255  CHILDRENS CUTLERY CIRCUS PARADE         4   \n",
              "541908    581587     22138    BAKING SET 9 PIECE RETROSPOT          3   \n",
              "\n",
              "               InvoiceDate  UnitPrice  CustomerID Country  \n",
              "541904 2011-12-09 12:50:00       0.85     12680.0  France  \n",
              "541905 2011-12-09 12:50:00       2.10     12680.0  France  \n",
              "541906 2011-12-09 12:50:00       4.15     12680.0  France  \n",
              "541907 2011-12-09 12:50:00       4.15     12680.0  France  \n",
              "541908 2011-12-09 12:50:00       4.95     12680.0  France  "
            ],
            "text/html": [
              "\n",
              "  <div id=\"df-15c29bb9-3cb9-4966-a954-7ee50709b299\">\n",
              "    <div class=\"colab-df-container\">\n",
              "      <div>\n",
              "<style scoped>\n",
              "    .dataframe tbody tr th:only-of-type {\n",
              "        vertical-align: middle;\n",
              "    }\n",
              "\n",
              "    .dataframe tbody tr th {\n",
              "        vertical-align: top;\n",
              "    }\n",
              "\n",
              "    .dataframe thead th {\n",
              "        text-align: right;\n",
              "    }\n",
              "</style>\n",
              "<table border=\"1\" class=\"dataframe\">\n",
              "  <thead>\n",
              "    <tr style=\"text-align: right;\">\n",
              "      <th></th>\n",
              "      <th>InvoiceNo</th>\n",
              "      <th>StockCode</th>\n",
              "      <th>Description</th>\n",
              "      <th>Quantity</th>\n",
              "      <th>InvoiceDate</th>\n",
              "      <th>UnitPrice</th>\n",
              "      <th>CustomerID</th>\n",
              "      <th>Country</th>\n",
              "    </tr>\n",
              "  </thead>\n",
              "  <tbody>\n",
              "    <tr>\n",
              "      <th>541904</th>\n",
              "      <td>581587</td>\n",
              "      <td>22613</td>\n",
              "      <td>PACK OF 20 SPACEBOY NAPKINS</td>\n",
              "      <td>12</td>\n",
              "      <td>2011-12-09 12:50:00</td>\n",
              "      <td>0.85</td>\n",
              "      <td>12680.0</td>\n",
              "      <td>France</td>\n",
              "    </tr>\n",
              "    <tr>\n",
              "      <th>541905</th>\n",
              "      <td>581587</td>\n",
              "      <td>22899</td>\n",
              "      <td>CHILDREN'S APRON DOLLY GIRL</td>\n",
              "      <td>6</td>\n",
              "      <td>2011-12-09 12:50:00</td>\n",
              "      <td>2.10</td>\n",
              "      <td>12680.0</td>\n",
              "      <td>France</td>\n",
              "    </tr>\n",
              "    <tr>\n",
              "      <th>541906</th>\n",
              "      <td>581587</td>\n",
              "      <td>23254</td>\n",
              "      <td>CHILDRENS CUTLERY DOLLY GIRL</td>\n",
              "      <td>4</td>\n",
              "      <td>2011-12-09 12:50:00</td>\n",
              "      <td>4.15</td>\n",
              "      <td>12680.0</td>\n",
              "      <td>France</td>\n",
              "    </tr>\n",
              "    <tr>\n",
              "      <th>541907</th>\n",
              "      <td>581587</td>\n",
              "      <td>23255</td>\n",
              "      <td>CHILDRENS CUTLERY CIRCUS PARADE</td>\n",
              "      <td>4</td>\n",
              "      <td>2011-12-09 12:50:00</td>\n",
              "      <td>4.15</td>\n",
              "      <td>12680.0</td>\n",
              "      <td>France</td>\n",
              "    </tr>\n",
              "    <tr>\n",
              "      <th>541908</th>\n",
              "      <td>581587</td>\n",
              "      <td>22138</td>\n",
              "      <td>BAKING SET 9 PIECE RETROSPOT</td>\n",
              "      <td>3</td>\n",
              "      <td>2011-12-09 12:50:00</td>\n",
              "      <td>4.95</td>\n",
              "      <td>12680.0</td>\n",
              "      <td>France</td>\n",
              "    </tr>\n",
              "  </tbody>\n",
              "</table>\n",
              "</div>\n",
              "      <button class=\"colab-df-convert\" onclick=\"convertToInteractive('df-15c29bb9-3cb9-4966-a954-7ee50709b299')\"\n",
              "              title=\"Convert this dataframe to an interactive table.\"\n",
              "              style=\"display:none;\">\n",
              "        \n",
              "  <svg xmlns=\"http://www.w3.org/2000/svg\" height=\"24px\"viewBox=\"0 0 24 24\"\n",
              "       width=\"24px\">\n",
              "    <path d=\"M0 0h24v24H0V0z\" fill=\"none\"/>\n",
              "    <path d=\"M18.56 5.44l.94 2.06.94-2.06 2.06-.94-2.06-.94-.94-2.06-.94 2.06-2.06.94zm-11 1L8.5 8.5l.94-2.06 2.06-.94-2.06-.94L8.5 2.5l-.94 2.06-2.06.94zm10 10l.94 2.06.94-2.06 2.06-.94-2.06-.94-.94-2.06-.94 2.06-2.06.94z\"/><path d=\"M17.41 7.96l-1.37-1.37c-.4-.4-.92-.59-1.43-.59-.52 0-1.04.2-1.43.59L10.3 9.45l-7.72 7.72c-.78.78-.78 2.05 0 2.83L4 21.41c.39.39.9.59 1.41.59.51 0 1.02-.2 1.41-.59l7.78-7.78 2.81-2.81c.8-.78.8-2.07 0-2.86zM5.41 20L4 18.59l7.72-7.72 1.47 1.35L5.41 20z\"/>\n",
              "  </svg>\n",
              "      </button>\n",
              "      \n",
              "  <style>\n",
              "    .colab-df-container {\n",
              "      display:flex;\n",
              "      flex-wrap:wrap;\n",
              "      gap: 12px;\n",
              "    }\n",
              "\n",
              "    .colab-df-convert {\n",
              "      background-color: #E8F0FE;\n",
              "      border: none;\n",
              "      border-radius: 50%;\n",
              "      cursor: pointer;\n",
              "      display: none;\n",
              "      fill: #1967D2;\n",
              "      height: 32px;\n",
              "      padding: 0 0 0 0;\n",
              "      width: 32px;\n",
              "    }\n",
              "\n",
              "    .colab-df-convert:hover {\n",
              "      background-color: #E2EBFA;\n",
              "      box-shadow: 0px 1px 2px rgba(60, 64, 67, 0.3), 0px 1px 3px 1px rgba(60, 64, 67, 0.15);\n",
              "      fill: #174EA6;\n",
              "    }\n",
              "\n",
              "    [theme=dark] .colab-df-convert {\n",
              "      background-color: #3B4455;\n",
              "      fill: #D2E3FC;\n",
              "    }\n",
              "\n",
              "    [theme=dark] .colab-df-convert:hover {\n",
              "      background-color: #434B5C;\n",
              "      box-shadow: 0px 1px 3px 1px rgba(0, 0, 0, 0.15);\n",
              "      filter: drop-shadow(0px 1px 2px rgba(0, 0, 0, 0.3));\n",
              "      fill: #FFFFFF;\n",
              "    }\n",
              "  </style>\n",
              "\n",
              "      <script>\n",
              "        const buttonEl =\n",
              "          document.querySelector('#df-15c29bb9-3cb9-4966-a954-7ee50709b299 button.colab-df-convert');\n",
              "        buttonEl.style.display =\n",
              "          google.colab.kernel.accessAllowed ? 'block' : 'none';\n",
              "\n",
              "        async function convertToInteractive(key) {\n",
              "          const element = document.querySelector('#df-15c29bb9-3cb9-4966-a954-7ee50709b299');\n",
              "          const dataTable =\n",
              "            await google.colab.kernel.invokeFunction('convertToInteractive',\n",
              "                                                     [key], {});\n",
              "          if (!dataTable) return;\n",
              "\n",
              "          const docLinkHtml = 'Like what you see? Visit the ' +\n",
              "            '<a target=\"_blank\" href=https://colab.research.google.com/notebooks/data_table.ipynb>data table notebook</a>'\n",
              "            + ' to learn more about interactive tables.';\n",
              "          element.innerHTML = '';\n",
              "          dataTable['output_type'] = 'display_data';\n",
              "          await google.colab.output.renderOutput(dataTable, element);\n",
              "          const docLink = document.createElement('div');\n",
              "          docLink.innerHTML = docLinkHtml;\n",
              "          element.appendChild(docLink);\n",
              "        }\n",
              "      </script>\n",
              "    </div>\n",
              "  </div>\n",
              "  "
            ]
          },
          "metadata": {},
          "execution_count": 21
        }
      ]
    },
    {
      "cell_type": "markdown",
      "source": [
        "## **PREPROCESSING:**"
      ],
      "metadata": {
        "id": "LgzrIoLN0fUc"
      }
    },
    {
      "cell_type": "code",
      "source": [
        "# Copy the Dataframe\n",
        "df =retail_df.copy()"
      ],
      "metadata": {
        "id": "ZH8cOlSl0ltF"
      },
      "execution_count": null,
      "outputs": []
    },
    {
      "cell_type": "code",
      "source": [
        "#getting count,mean, min,max std etc\n",
        "df.describe()"
      ],
      "metadata": {
        "colab": {
          "base_uri": "https://localhost:8080/",
          "height": 300
        },
        "id": "LjUAP4Uc02E-",
        "outputId": "ff4eafb0-c795-4439-9674-693d83f59339"
      },
      "execution_count": null,
      "outputs": [
        {
          "output_type": "execute_result",
          "data": {
            "text/plain": [
              "            Quantity      UnitPrice     CustomerID\n",
              "count  541909.000000  541909.000000  406829.000000\n",
              "mean        9.552250       4.611114   15287.690570\n",
              "std       218.081158      96.759853    1713.600303\n",
              "min    -80995.000000  -11062.060000   12346.000000\n",
              "25%         1.000000       1.250000   13953.000000\n",
              "50%         3.000000       2.080000   15152.000000\n",
              "75%        10.000000       4.130000   16791.000000\n",
              "max     80995.000000   38970.000000   18287.000000"
            ],
            "text/html": [
              "\n",
              "  <div id=\"df-f7281a0d-67fd-4bcb-83e7-c9aa17192cb4\">\n",
              "    <div class=\"colab-df-container\">\n",
              "      <div>\n",
              "<style scoped>\n",
              "    .dataframe tbody tr th:only-of-type {\n",
              "        vertical-align: middle;\n",
              "    }\n",
              "\n",
              "    .dataframe tbody tr th {\n",
              "        vertical-align: top;\n",
              "    }\n",
              "\n",
              "    .dataframe thead th {\n",
              "        text-align: right;\n",
              "    }\n",
              "</style>\n",
              "<table border=\"1\" class=\"dataframe\">\n",
              "  <thead>\n",
              "    <tr style=\"text-align: right;\">\n",
              "      <th></th>\n",
              "      <th>Quantity</th>\n",
              "      <th>UnitPrice</th>\n",
              "      <th>CustomerID</th>\n",
              "    </tr>\n",
              "  </thead>\n",
              "  <tbody>\n",
              "    <tr>\n",
              "      <th>count</th>\n",
              "      <td>541909.000000</td>\n",
              "      <td>541909.000000</td>\n",
              "      <td>406829.000000</td>\n",
              "    </tr>\n",
              "    <tr>\n",
              "      <th>mean</th>\n",
              "      <td>9.552250</td>\n",
              "      <td>4.611114</td>\n",
              "      <td>15287.690570</td>\n",
              "    </tr>\n",
              "    <tr>\n",
              "      <th>std</th>\n",
              "      <td>218.081158</td>\n",
              "      <td>96.759853</td>\n",
              "      <td>1713.600303</td>\n",
              "    </tr>\n",
              "    <tr>\n",
              "      <th>min</th>\n",
              "      <td>-80995.000000</td>\n",
              "      <td>-11062.060000</td>\n",
              "      <td>12346.000000</td>\n",
              "    </tr>\n",
              "    <tr>\n",
              "      <th>25%</th>\n",
              "      <td>1.000000</td>\n",
              "      <td>1.250000</td>\n",
              "      <td>13953.000000</td>\n",
              "    </tr>\n",
              "    <tr>\n",
              "      <th>50%</th>\n",
              "      <td>3.000000</td>\n",
              "      <td>2.080000</td>\n",
              "      <td>15152.000000</td>\n",
              "    </tr>\n",
              "    <tr>\n",
              "      <th>75%</th>\n",
              "      <td>10.000000</td>\n",
              "      <td>4.130000</td>\n",
              "      <td>16791.000000</td>\n",
              "    </tr>\n",
              "    <tr>\n",
              "      <th>max</th>\n",
              "      <td>80995.000000</td>\n",
              "      <td>38970.000000</td>\n",
              "      <td>18287.000000</td>\n",
              "    </tr>\n",
              "  </tbody>\n",
              "</table>\n",
              "</div>\n",
              "      <button class=\"colab-df-convert\" onclick=\"convertToInteractive('df-f7281a0d-67fd-4bcb-83e7-c9aa17192cb4')\"\n",
              "              title=\"Convert this dataframe to an interactive table.\"\n",
              "              style=\"display:none;\">\n",
              "        \n",
              "  <svg xmlns=\"http://www.w3.org/2000/svg\" height=\"24px\"viewBox=\"0 0 24 24\"\n",
              "       width=\"24px\">\n",
              "    <path d=\"M0 0h24v24H0V0z\" fill=\"none\"/>\n",
              "    <path d=\"M18.56 5.44l.94 2.06.94-2.06 2.06-.94-2.06-.94-.94-2.06-.94 2.06-2.06.94zm-11 1L8.5 8.5l.94-2.06 2.06-.94-2.06-.94L8.5 2.5l-.94 2.06-2.06.94zm10 10l.94 2.06.94-2.06 2.06-.94-2.06-.94-.94-2.06-.94 2.06-2.06.94z\"/><path d=\"M17.41 7.96l-1.37-1.37c-.4-.4-.92-.59-1.43-.59-.52 0-1.04.2-1.43.59L10.3 9.45l-7.72 7.72c-.78.78-.78 2.05 0 2.83L4 21.41c.39.39.9.59 1.41.59.51 0 1.02-.2 1.41-.59l7.78-7.78 2.81-2.81c.8-.78.8-2.07 0-2.86zM5.41 20L4 18.59l7.72-7.72 1.47 1.35L5.41 20z\"/>\n",
              "  </svg>\n",
              "      </button>\n",
              "      \n",
              "  <style>\n",
              "    .colab-df-container {\n",
              "      display:flex;\n",
              "      flex-wrap:wrap;\n",
              "      gap: 12px;\n",
              "    }\n",
              "\n",
              "    .colab-df-convert {\n",
              "      background-color: #E8F0FE;\n",
              "      border: none;\n",
              "      border-radius: 50%;\n",
              "      cursor: pointer;\n",
              "      display: none;\n",
              "      fill: #1967D2;\n",
              "      height: 32px;\n",
              "      padding: 0 0 0 0;\n",
              "      width: 32px;\n",
              "    }\n",
              "\n",
              "    .colab-df-convert:hover {\n",
              "      background-color: #E2EBFA;\n",
              "      box-shadow: 0px 1px 2px rgba(60, 64, 67, 0.3), 0px 1px 3px 1px rgba(60, 64, 67, 0.15);\n",
              "      fill: #174EA6;\n",
              "    }\n",
              "\n",
              "    [theme=dark] .colab-df-convert {\n",
              "      background-color: #3B4455;\n",
              "      fill: #D2E3FC;\n",
              "    }\n",
              "\n",
              "    [theme=dark] .colab-df-convert:hover {\n",
              "      background-color: #434B5C;\n",
              "      box-shadow: 0px 1px 3px 1px rgba(0, 0, 0, 0.15);\n",
              "      filter: drop-shadow(0px 1px 2px rgba(0, 0, 0, 0.3));\n",
              "      fill: #FFFFFF;\n",
              "    }\n",
              "  </style>\n",
              "\n",
              "      <script>\n",
              "        const buttonEl =\n",
              "          document.querySelector('#df-f7281a0d-67fd-4bcb-83e7-c9aa17192cb4 button.colab-df-convert');\n",
              "        buttonEl.style.display =\n",
              "          google.colab.kernel.accessAllowed ? 'block' : 'none';\n",
              "\n",
              "        async function convertToInteractive(key) {\n",
              "          const element = document.querySelector('#df-f7281a0d-67fd-4bcb-83e7-c9aa17192cb4');\n",
              "          const dataTable =\n",
              "            await google.colab.kernel.invokeFunction('convertToInteractive',\n",
              "                                                     [key], {});\n",
              "          if (!dataTable) return;\n",
              "\n",
              "          const docLinkHtml = 'Like what you see? Visit the ' +\n",
              "            '<a target=\"_blank\" href=https://colab.research.google.com/notebooks/data_table.ipynb>data table notebook</a>'\n",
              "            + ' to learn more about interactive tables.';\n",
              "          element.innerHTML = '';\n",
              "          dataTable['output_type'] = 'display_data';\n",
              "          await google.colab.output.renderOutput(dataTable, element);\n",
              "          const docLink = document.createElement('div');\n",
              "          docLink.innerHTML = docLinkHtml;\n",
              "          element.appendChild(docLink);\n",
              "        }\n",
              "      </script>\n",
              "    </div>\n",
              "  </div>\n",
              "  "
            ]
          },
          "metadata": {},
          "execution_count": 23
        }
      ]
    },
    {
      "cell_type": "code",
      "source": [
        "# Stats from Data Frame in case od Object Datatype\n",
        "df.describe(include=['O'])\n"
      ],
      "metadata": {
        "colab": {
          "base_uri": "https://localhost:8080/",
          "height": 175
        },
        "id": "GUFcKe7t1ShD",
        "outputId": "0037a3d1-af93-42eb-e65e-45e8d62f66b9"
      },
      "execution_count": null,
      "outputs": [
        {
          "output_type": "execute_result",
          "data": {
            "text/plain": [
              "        InvoiceNo StockCode                         Description  \\\n",
              "count      541909    541909                              540455   \n",
              "unique      25900      4070                                4223   \n",
              "top        573585    85123A  WHITE HANGING HEART T-LIGHT HOLDER   \n",
              "freq         1114      2313                                2369   \n",
              "\n",
              "               Country  \n",
              "count           541909  \n",
              "unique              38  \n",
              "top     United Kingdom  \n",
              "freq            495478  "
            ],
            "text/html": [
              "\n",
              "  <div id=\"df-817a607b-5345-40ca-bf7f-94f99efaec1d\">\n",
              "    <div class=\"colab-df-container\">\n",
              "      <div>\n",
              "<style scoped>\n",
              "    .dataframe tbody tr th:only-of-type {\n",
              "        vertical-align: middle;\n",
              "    }\n",
              "\n",
              "    .dataframe tbody tr th {\n",
              "        vertical-align: top;\n",
              "    }\n",
              "\n",
              "    .dataframe thead th {\n",
              "        text-align: right;\n",
              "    }\n",
              "</style>\n",
              "<table border=\"1\" class=\"dataframe\">\n",
              "  <thead>\n",
              "    <tr style=\"text-align: right;\">\n",
              "      <th></th>\n",
              "      <th>InvoiceNo</th>\n",
              "      <th>StockCode</th>\n",
              "      <th>Description</th>\n",
              "      <th>Country</th>\n",
              "    </tr>\n",
              "  </thead>\n",
              "  <tbody>\n",
              "    <tr>\n",
              "      <th>count</th>\n",
              "      <td>541909</td>\n",
              "      <td>541909</td>\n",
              "      <td>540455</td>\n",
              "      <td>541909</td>\n",
              "    </tr>\n",
              "    <tr>\n",
              "      <th>unique</th>\n",
              "      <td>25900</td>\n",
              "      <td>4070</td>\n",
              "      <td>4223</td>\n",
              "      <td>38</td>\n",
              "    </tr>\n",
              "    <tr>\n",
              "      <th>top</th>\n",
              "      <td>573585</td>\n",
              "      <td>85123A</td>\n",
              "      <td>WHITE HANGING HEART T-LIGHT HOLDER</td>\n",
              "      <td>United Kingdom</td>\n",
              "    </tr>\n",
              "    <tr>\n",
              "      <th>freq</th>\n",
              "      <td>1114</td>\n",
              "      <td>2313</td>\n",
              "      <td>2369</td>\n",
              "      <td>495478</td>\n",
              "    </tr>\n",
              "  </tbody>\n",
              "</table>\n",
              "</div>\n",
              "      <button class=\"colab-df-convert\" onclick=\"convertToInteractive('df-817a607b-5345-40ca-bf7f-94f99efaec1d')\"\n",
              "              title=\"Convert this dataframe to an interactive table.\"\n",
              "              style=\"display:none;\">\n",
              "        \n",
              "  <svg xmlns=\"http://www.w3.org/2000/svg\" height=\"24px\"viewBox=\"0 0 24 24\"\n",
              "       width=\"24px\">\n",
              "    <path d=\"M0 0h24v24H0V0z\" fill=\"none\"/>\n",
              "    <path d=\"M18.56 5.44l.94 2.06.94-2.06 2.06-.94-2.06-.94-.94-2.06-.94 2.06-2.06.94zm-11 1L8.5 8.5l.94-2.06 2.06-.94-2.06-.94L8.5 2.5l-.94 2.06-2.06.94zm10 10l.94 2.06.94-2.06 2.06-.94-2.06-.94-.94-2.06-.94 2.06-2.06.94z\"/><path d=\"M17.41 7.96l-1.37-1.37c-.4-.4-.92-.59-1.43-.59-.52 0-1.04.2-1.43.59L10.3 9.45l-7.72 7.72c-.78.78-.78 2.05 0 2.83L4 21.41c.39.39.9.59 1.41.59.51 0 1.02-.2 1.41-.59l7.78-7.78 2.81-2.81c.8-.78.8-2.07 0-2.86zM5.41 20L4 18.59l7.72-7.72 1.47 1.35L5.41 20z\"/>\n",
              "  </svg>\n",
              "      </button>\n",
              "      \n",
              "  <style>\n",
              "    .colab-df-container {\n",
              "      display:flex;\n",
              "      flex-wrap:wrap;\n",
              "      gap: 12px;\n",
              "    }\n",
              "\n",
              "    .colab-df-convert {\n",
              "      background-color: #E8F0FE;\n",
              "      border: none;\n",
              "      border-radius: 50%;\n",
              "      cursor: pointer;\n",
              "      display: none;\n",
              "      fill: #1967D2;\n",
              "      height: 32px;\n",
              "      padding: 0 0 0 0;\n",
              "      width: 32px;\n",
              "    }\n",
              "\n",
              "    .colab-df-convert:hover {\n",
              "      background-color: #E2EBFA;\n",
              "      box-shadow: 0px 1px 2px rgba(60, 64, 67, 0.3), 0px 1px 3px 1px rgba(60, 64, 67, 0.15);\n",
              "      fill: #174EA6;\n",
              "    }\n",
              "\n",
              "    [theme=dark] .colab-df-convert {\n",
              "      background-color: #3B4455;\n",
              "      fill: #D2E3FC;\n",
              "    }\n",
              "\n",
              "    [theme=dark] .colab-df-convert:hover {\n",
              "      background-color: #434B5C;\n",
              "      box-shadow: 0px 1px 3px 1px rgba(0, 0, 0, 0.15);\n",
              "      filter: drop-shadow(0px 1px 2px rgba(0, 0, 0, 0.3));\n",
              "      fill: #FFFFFF;\n",
              "    }\n",
              "  </style>\n",
              "\n",
              "      <script>\n",
              "        const buttonEl =\n",
              "          document.querySelector('#df-817a607b-5345-40ca-bf7f-94f99efaec1d button.colab-df-convert');\n",
              "        buttonEl.style.display =\n",
              "          google.colab.kernel.accessAllowed ? 'block' : 'none';\n",
              "\n",
              "        async function convertToInteractive(key) {\n",
              "          const element = document.querySelector('#df-817a607b-5345-40ca-bf7f-94f99efaec1d');\n",
              "          const dataTable =\n",
              "            await google.colab.kernel.invokeFunction('convertToInteractive',\n",
              "                                                     [key], {});\n",
              "          if (!dataTable) return;\n",
              "\n",
              "          const docLinkHtml = 'Like what you see? Visit the ' +\n",
              "            '<a target=\"_blank\" href=https://colab.research.google.com/notebooks/data_table.ipynb>data table notebook</a>'\n",
              "            + ' to learn more about interactive tables.';\n",
              "          element.innerHTML = '';\n",
              "          dataTable['output_type'] = 'display_data';\n",
              "          await google.colab.output.renderOutput(dataTable, element);\n",
              "          const docLink = document.createElement('div');\n",
              "          docLink.innerHTML = docLinkHtml;\n",
              "          element.appendChild(docLink);\n",
              "        }\n",
              "      </script>\n",
              "    </div>\n",
              "  </div>\n",
              "  "
            ]
          },
          "metadata": {},
          "execution_count": 24
        }
      ]
    },
    {
      "cell_type": "markdown",
      "source": [
        "## **HANDELING NULL VALUES:**\n"
      ],
      "metadata": {
        "id": "9nOvmy632IEW"
      }
    },
    {
      "cell_type": "code",
      "source": [
        "# Drop Duplicated rows of data from the DataFrame, It happened because of Human Error..!! :-p\n",
        "print(\"*\"*75)\n",
        "print(\"Length of DataFrame with duplicate values : \", len(df))\n",
        "df.drop_duplicates(inplace=True, keep='first')\n",
        "print(\"*\"*75)\n",
        "print(\"Length of DataFrame after dropping all the duplicate values : \", len(df))\n",
        "print(\"*\"*75)\n"
      ],
      "metadata": {
        "colab": {
          "base_uri": "https://localhost:8080/"
        },
        "id": "N5G9lBFT2KsG",
        "outputId": "f7efd119-e661-402a-cae8-08748b598808"
      },
      "execution_count": null,
      "outputs": [
        {
          "output_type": "stream",
          "name": "stdout",
          "text": [
            "***************************************************************************\n",
            "Length of DataFrame with duplicate values :  541909\n",
            "***************************************************************************\n",
            "Length of DataFrame after dropping all the duplicate values :  536641\n",
            "***************************************************************************\n"
          ]
        }
      ]
    }
  ]
}